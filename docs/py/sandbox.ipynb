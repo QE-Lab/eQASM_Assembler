{
 "cells": [
  {
   "cell_type": "code",
   "execution_count": 113,
   "metadata": {
    "collapsed": true
   },
   "outputs": [],
   "source": [
    "rd_format = [24, 20, \"Rd\"]\n",
    "rs_format = [19, 15, \"Rs\"]\n",
    "rt_format = [14, 10, \"Rt\"]\n",
    "opcode_range = [30, 25]\n",
    "MSb_dict = {\n",
    "    \"position\": 31,\n",
    "    \"single_format\": \"0\",\n",
    "    \"bundle\" : \"1\"\n",
    "}\n",
    "\n",
    "isa_dict = {\n",
    "    \"single_format\": {\n",
    "        \"goto\": {\n",
    "            \"opcode\": \"000001\",\n",
    "            \"offset\": [24, 4, \"imm\"],\n",
    "            \"cond\":[3, 0, \"0000\"]\n",
    "        },\n",
    "\n",
    "        \"br\": {\n",
    "            \"opcode\": \"000001\",\n",
    "            \"offset\": [24, 4, \"imm\"],\n",
    "            \"cond\":[3, 0, \"cond\"]\n",
    "        },\n",
    "\n",
    "        \"stop\": {\n",
    "            \"opcode\": \"001000\",\n",
    "            \"reserved\": [24, 0, \"reserved\"]\n",
    "        },\n",
    "\n",
    "        \"test\": {\n",
    "            \"opcode\": \"001100\",\n",
    "            \"reserved0\": [24, 20, \"reserved\"],\n",
    "            \"rs\": True,\n",
    "            \"rt\": True,\n",
    "            \"reserved1\": [9, 0, \"reserved\"]\n",
    "        },\n",
    "\n",
    "        \"cmp\": {\n",
    "            \"opcode\": \"001101\",\n",
    "            \"reserved0\": [24, 20, \"reserved\"],\n",
    "            \"rs\": True,\n",
    "            \"rt\": True,\n",
    "            \"reserved1\": [9, 0, \"reserved\"]\n",
    "        },\n",
    "\n",
    "        \"fbr\": {\n",
    "            \"opcode\": \"010100\",\n",
    "            \"rd\": True,\n",
    "            \"reserved\": [19, 4, \"reserved\"],\n",
    "            \"cond\": [3, 0, \"cond\"]\n",
    "        },\n",
    "\n",
    "        \"fmr\": {\n",
    "            \"opcode\": \"010101\",\n",
    "            \"rd\": True,\n",
    "            \"reserved\": [19, 3, \"reserved\"],\n",
    "            \"cond\": [2, 0, \"q\"]\n",
    "        },\n",
    "\n",
    "        \"ldi\": {\n",
    "            \"opcode\": \"010110\",\n",
    "            \"rd\": True,\n",
    "            \"reserved\": [19, 0, \"imm\"]\n",
    "        },\n",
    "\n",
    "        \"ldui\": {\n",
    "            \"opcode\": \"010111\",\n",
    "            \"rd\": True,\n",
    "            \"rs\": True,\n",
    "            \"reserved\": [14, 0, \"imm\"]\n",
    "        },\n",
    "\n",
    "        \"or\": {\n",
    "            \"opcode\": \"011000\",\n",
    "            \"rd\": True,\n",
    "            \"rs\": True,\n",
    "            \"rt\": True,\n",
    "            \"reserved\": [9, 0, \"imm\"]\n",
    "        },\n",
    "\n",
    "        \"xor\": {\n",
    "            \"opcode\": \"011001\",\n",
    "            \"rd\": True,\n",
    "            \"rs\": True,\n",
    "            \"rt\": True,\n",
    "            \"reserved\": [9, 0, \"imm\"]\n",
    "        },\n",
    "\n",
    "        \"and\": {\n",
    "            \"opcode\": \"011010\",\n",
    "            \"rd\": True,\n",
    "            \"rs\": True,\n",
    "            \"rt\": True,\n",
    "            \"reserved\": [9, 0, \"imm\"]\n",
    "        },\n",
    "\n",
    "        \"not\": {\n",
    "            \"opcode\": \"011011\",\n",
    "            \"rd\": True,\n",
    "            \"rt\": True,\n",
    "            \"reserved0\": [9, 0, \"reserved\"],\n",
    "            \"reserved1\": [19, 15, \"reserved\"]\n",
    "        },\n",
    "\n",
    "        \"addc\": {\n",
    "            \"opcode\": \"011100\",\n",
    "            \"rd\": True,\n",
    "            \"rs\": True,\n",
    "            \"rt\": True,\n",
    "            \"reserved\": [9, 0, \"reserved\"],\n",
    "        },\n",
    "\n",
    "        \"subc\": {\n",
    "            \"opcode\": \"011101\",\n",
    "            \"rd\": True,\n",
    "            \"rs\": True,\n",
    "            \"rt\": True,\n",
    "            \"reserved\": [9, 0, \"reserved\"],\n",
    "        },\n",
    "\n",
    "        \"add\": {\n",
    "            \"opcode\": \"011110\",\n",
    "            \"rd\": True,\n",
    "            \"rs\": True,\n",
    "            \"rt\": True,\n",
    "            \"reserved\": [9, 0, \"reserved\"],\n",
    "        },\n",
    "\n",
    "        \"subc\": {\n",
    "            \"opcode\": \"011111\",\n",
    "            \"rd\": True,\n",
    "            \"rs\": True,\n",
    "            \"rt\": True,\n",
    "            \"reserved\": [9, 0, \"reserved\"],\n",
    "        }\n",
    "    }\n",
    "}"
   ]
  },
  {
   "cell_type": "code",
   "execution_count": 114,
   "metadata": {
    "collapsed": true
   },
   "outputs": [],
   "source": [
    "def expand_fields(fields):\n",
    "    new_fields = {}\n",
    "    for key, item in fields.items():\n",
    "        if key == \"rd\":\n",
    "            new_fields[\"rd\"] = rd_format\n",
    "        elif key == \"rs\":\n",
    "            new_fields[\"rs\"] = rs_format\n",
    "        elif key == \"rt\":\n",
    "            new_fields[\"rt\"] = rt_format\n",
    "        elif key == \"opcode\":\n",
    "            new_fields[\"opcode\"] = (opcode_range[0], opcode_range[1], item)\n",
    "        else:\n",
    "            new_fields[key] = item\n",
    "\n",
    "    return new_fields"
   ]
  },
  {
   "cell_type": "code",
   "execution_count": 115,
   "metadata": {
    "collapsed": true
   },
   "outputs": [],
   "source": [
    "def gen_row_content(name):\n",
    "    found = False\n",
    "    for key, item in isa_dict.items():\n",
    "        if name in item:\n",
    "            found = True\n",
    "            fields = item[name]\n",
    "            break\n",
    "\n",
    "    if not found:\n",
    "        raise ValueError(\"Given instruction ({}) not found\".format(name))\n",
    "\n",
    "    fields = expand_fields(fields)\n",
    "    print(fields)"
   ]
  },
  {
   "cell_type": "code",
   "execution_count": 116,
   "metadata": {
    "collapsed": true
   },
   "outputs": [],
   "source": [
    "def check_completeness(insn_name, insn_fields):\n",
    "    if not isinstance(insn_fields, list):\n",
    "        raise ValueError(\"{}: Given insn_fields ({}) is not a list.\"\n",
    "                         \" \\nFields are: {}\".format(insn_name, type(insn_fields), insn_fields))\n",
    "    expected_pos = 31\n",
    "    for field in insn_fields:\n",
    "        if field[1][0] != expected_pos:\n",
    "            raise ValueError(\"{}: Given fields position ({}) does not match expected({}).\"\n",
    "                             \" \\nFields are: {}\".format(insn_name, field[1][0], expected_pos, insn_fields))\n",
    "            \n",
    "        if len(field[1]) == 2:\n",
    "            expected_pos = expected_pos - 1\n",
    "        else:\n",
    "            if field[1][1] > expected_pos:\n",
    "                raise ValueError(\"{}: Given fields position is incorrect:({}, {}).\"\n",
    "                                  \" \\nFields are: {}\".format(insn_name, field[1][0], field[1][1], insn_fields))\n",
    "            expected_pos = field[1][1] - 1\n",
    "            "
   ]
  },
  {
   "cell_type": "code",
   "execution_count": 136,
   "metadata": {},
   "outputs": [],
   "source": [
    "def is_binary(num):\n",
    "    try:\n",
    "        int(num, 2)\n",
    "        return True\n",
    "    except ValueError:\n",
    "        return False\n",
    "    \n",
    "def resolve_dict(isa_dict):\n",
    "    new_dict = {}\n",
    "    for format_key, format_insn_dict in isa_dict.items():\n",
    "        for insn_name, compact_insn_fields in format_insn_dict.items():\n",
    "            expanded_insn_fields = {}\n",
    "            if format_key == \"single_format\":\n",
    "                expanded_insn_fields[\"MSb\"] = [MSb_dict[\"position\"], MSb_dict[\"single_format\"]]\n",
    "            else:\n",
    "                expanded_insn_fields[\"MSb\"] = [MSb_dict[\"position\"], MSb_dict[\"bundle\"]]\n",
    "                \n",
    "            for field_name, compact_field_value in compact_insn_fields.items():\n",
    "                if field_name == \"opcode\":\n",
    "                    if not is_binary(compact_field_value):\n",
    "                        raise ValueError(\"Given opcode is not binary({}).\".format(compact_field_value))\n",
    "                                         \n",
    "                    if len(compact_field_value) != 6:\n",
    "                        raise ValueError(\"Given opcode length ({}) does not match required ({}).\".format(\n",
    "                                len(compact_field_value), 6))\n",
    "                        \n",
    "                    expanded_insn_fields[\"opcode\"] =[opcode_range[0], opcode_range[1], compact_field_value]\n",
    "                \n",
    "                elif field_name.lower() == \"rd\":\n",
    "                    expanded_insn_fields[\"rd\"] = rd_format\n",
    "                elif field_name.lower() == \"rs\":\n",
    "                    expanded_insn_fields[\"rs\"] = rs_format\n",
    "                elif field_name.lower() == \"rt\":\n",
    "                    expanded_insn_fields[\"rt\"] = rt_format\n",
    "                else:\n",
    "                    if (not isinstance(compact_field_value, list)) or (len(compact_field_value) != 3):\n",
    "                        raise ValueError(\"Given field format not correct: \", compact_field_value)\n",
    "                    if field_name.lower().startswith(\"reserve\"):\n",
    "                        compact_field_value[2] = r\"\\reserve\"\n",
    "                    if compact_field_value[2] == \"imm\":\n",
    "                        compact_field_value[2] = \"imm{}\".format(compact_field_value[0] - compact_field_value[1] + 1)\n",
    "                    expanded_insn_fields[field_name.lower()] = compact_field_value\n",
    "            \n",
    "            # sort the dict and save it as a tuple\n",
    "#             print(expanded_insn_fields)\n",
    "            keys = sorted(expanded_insn_fields, key = lambda x: expanded_insn_fields[x][0], reverse=True)\n",
    "            sorted_insn_fields = [[key,expanded_insn_fields[key]] for key in keys]\n",
    "            \n",
    "            check_completeness(insn_name.lower(), sorted_insn_fields)\n",
    "            \n",
    "            new_dict[insn_name.lower()] = sorted_insn_fields\n",
    "    \n",
    "    \n",
    "    return new_dict"
   ]
  },
  {
   "cell_type": "code",
   "execution_count": 139,
   "metadata": {
    "scrolled": false
   },
   "outputs": [],
   "source": [
    "resolved_isa_dict = resolve_dict(isa_dict)"
   ]
  },
  {
   "cell_type": "code",
   "execution_count": 142,
   "metadata": {},
   "outputs": [
    {
     "data": {
      "text/plain": [
       "[['MSb', [31, '0']],\n",
       " ['opcode', [30, 25, '011110']],\n",
       " ['rd', [24, 20, 'Rd']],\n",
       " ['rs', [19, 15, 'Rs']],\n",
       " ['rt', [14, 10, 'Rt']],\n",
       " ['reserved', [9, 0, '\\\\reserve']]]"
      ]
     },
     "execution_count": 142,
     "metadata": {},
     "output_type": "execute_result"
    }
   ],
   "source": [
    "fields = resolved_isa_dict[\"add\"]\n",
    "fields"
   ]
  },
  {
   "cell_type": "code",
   "execution_count": 152,
   "metadata": {},
   "outputs": [
    {
     "data": {
      "text/plain": [
       "[['MSb', [31, '0']],\n",
       " ['opcode', [30, 25, '011110']],\n",
       " ['rd', [24, 20, 'Rd']],\n",
       " ['rs', [19, 15, 'Rs']],\n",
       " ['rt', [14, 10, 'Rt']],\n",
       " ['reserved', [9, 0, '\\\\reserve']]]"
      ]
     },
     "execution_count": 152,
     "metadata": {},
     "output_type": "execute_result"
    }
   ],
   "source": [
    "fields"
   ]
  },
  {
   "cell_type": "code",
   "execution_count": 201,
   "metadata": {},
   "outputs": [],
   "source": [
    "def gen_row_content(name):\n",
    "    if not (name in resolved_isa_dict):\n",
    "        raise ValueError(\"Given instruction ({}) not found\".format(name))\n",
    "\n",
    "    fields = resolved_isa_dict[name]\n",
    "\n",
    "    row_string = \"\"\n",
    "    font = \"\\\\small\"\n",
    "    for field in fields:\n",
    "        field_str = \"\"\n",
    "        field_name = field[0]\n",
    "        field_info = field[1]\n",
    "        if len(field_info) == 2:\n",
    "            field_length = 1\n",
    "            field_pos_len = 1\n",
    "        else:\n",
    "            field_pos_len = 2\n",
    "            field_length = field_info[0] - field_info[1] + 1\n",
    "\n",
    "        field_value = field_info[field_pos_len]\n",
    "        is_binary_str = is_binary(field_value)\n",
    "\n",
    "        if is_binary_str:\n",
    "            if len(field_value) != field_length:\n",
    "                raise ValueError(\"field length ({}) does not match. \"\n",
    "                    \"field: {}\".format(field_length, field))\n",
    "\n",
    "            # left vertical bar: only added when it is the first bit\n",
    "            # right vertical bar: only added when the last bit is 0\n",
    "            # \"&\" symbol: added for each bit, except the last bit is 0.\n",
    "            # comment: added only for the first bit\n",
    "            for i in range(len(field_value)):\n",
    "                left_vertical_bar = \" \"\n",
    "                right_vertical_bar = \" \"\n",
    "                new_col_symbol = \"& \"\n",
    "                comment = \"\"\n",
    "\n",
    "                if i == 0:       # judge left vertical bar\n",
    "                    left_vertical_bar = \"|\"\n",
    "                    comment = \"% {:>8s}: pos: {:>10s}, value: {}\".format(\n",
    "                                field_name,\n",
    "                                str(field_info[0:field_pos_len]),\n",
    "                                field_value)\n",
    "\n",
    "                # judge right vertical bar\n",
    "                if (i == len(field_value) - 1) and \\\n",
    "                    (len(field_value) - field_info[0] == 1):\n",
    "                    right_vertical_bar = \"|\"\n",
    "\n",
    "                # judge the new column symbol\n",
    "                if (i == len(field_value) - 1) and \\\n",
    "                    (len(field_value) - field_info[0] == 1):\n",
    "                    right_vertical_bar = \" \"\n",
    "\n",
    "                field_str += \"\\multicolumn{ 1}{\" + left_vertical_bar +\\\n",
    "                             \"@{}c@{}\" + right_vertical_bar + \"}{\" +\\\n",
    "                             font + field_value[i] + \"} \" + new_col_symbol +\\\n",
    "                             comment + \"\\n\"\n",
    "\n",
    "        else:\n",
    "            right_vertical_bar = \" \"\n",
    "            new_col_symbol = \"& \"\n",
    "\n",
    "            # if this field reaches the end of the instruction\n",
    "            if ((field_pos_len == 1 and field_info[0] == 0) or\n",
    "                    (field_pos_len == 2 and field_info[1] == 0)):\n",
    "                right_vertical_bar = \"|\"\n",
    "                new_col_symbol = \" \"\n",
    "\n",
    "            comment = \"% {:>8s}: pos: {:>10s}, value: {}\".format(\n",
    "                        field_name,\n",
    "                        str(field_info[0:field_pos_len]),\n",
    "                        field_value)\n",
    "\n",
    "            field_str += \"\\multicolumn{\" + \"{:2}\".format(field_length) +\\\n",
    "                         \"}{|@{}c@{}\" + right_vertical_bar + \"}{\" + font +\\\n",
    "                         field_value + \"} \" + new_col_symbol + comment + \"\\n\"\n",
    "\n",
    "        row_string += field_str\n",
    "    row_string += \"\\\\\\\\ \\n\\cline{1-32}\"\n",
    "\n",
    "    return row_string"
   ]
  },
  {
   "cell_type": "code",
   "execution_count": 202,
   "metadata": {},
   "outputs": [
    {
     "name": "stdout",
     "output_type": "stream",
     "text": [
      "\\multicolumn{ 1}{|@{}c@{} }{\\small0} & %      MSb: pos:       [31], value: 0\n",
      "\\multicolumn{ 1}{|@{}c@{} }{\\small0} & %   opcode: pos:   [30, 25], value: 011110\n",
      "\\multicolumn{ 1}{ @{}c@{} }{\\small1} & \n",
      "\\multicolumn{ 1}{ @{}c@{} }{\\small1} & \n",
      "\\multicolumn{ 1}{ @{}c@{} }{\\small1} & \n",
      "\\multicolumn{ 1}{ @{}c@{} }{\\small1} & \n",
      "\\multicolumn{ 1}{ @{}c@{} }{\\small0} & \n",
      "\\multicolumn{ 5}{|@{}c@{} }{\\smallRd} & %       rd: pos:   [24, 20], value: Rd\n",
      "\\multicolumn{ 5}{|@{}c@{} }{\\smallRs} & %       rs: pos:   [19, 15], value: Rs\n",
      "\\multicolumn{ 5}{|@{}c@{} }{\\smallRt} & %       rt: pos:   [14, 10], value: Rt\n",
      "\\multicolumn{10}{|@{}c@{}|}{\\small\\reserve}  % reserved: pos:     [9, 0], value: \\reserve\n",
      "\\\\ \n",
      "\\cline{1-32}\n"
     ]
    }
   ],
   "source": [
    "print(gen_row_content(\"add\"))"
   ]
  },
  {
   "cell_type": "code",
   "execution_count": 180,
   "metadata": {},
   "outputs": [
    {
     "data": {
      "text/plain": [
       "'[10, 8]'"
      ]
     },
     "execution_count": 180,
     "metadata": {},
     "output_type": "execute_result"
    }
   ],
   "source": [
    "str([10, 8])"
   ]
  },
  {
   "cell_type": "code",
   "execution_count": 199,
   "metadata": {},
   "outputs": [
    {
     "data": {
      "text/plain": [
       "' 8'"
      ]
     },
     "execution_count": 199,
     "metadata": {},
     "output_type": "execute_result"
    }
   ],
   "source": [
    "\"{:2}\".format(8)"
   ]
  },
  {
   "cell_type": "code",
   "execution_count": null,
   "metadata": {
    "collapsed": true
   },
   "outputs": [],
   "source": []
  }
 ],
 "metadata": {
  "kernelspec": {
   "display_name": "Python 3",
   "language": "python",
   "name": "python3"
  },
  "language_info": {
   "codemirror_mode": {
    "name": "ipython",
    "version": 3
   },
   "file_extension": ".py",
   "mimetype": "text/x-python",
   "name": "python",
   "nbconvert_exporter": "python",
   "pygments_lexer": "ipython3",
   "version": "3.7.3"
  }
 },
 "nbformat": 4,
 "nbformat_minor": 1
}
